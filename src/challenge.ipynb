{
 "cells": [
  {
   "cell_type": "markdown",
   "metadata": {},
   "source": [
    "En este archivo puedes escribir lo que estimes conveniente. Te recomendamos detallar tu solución y todas las suposiciones que estás considerando. Aquí puedes ejecutar las funciones que definiste en los otros archivos de la carpeta src, medir el tiempo, memoria, etc."
   ]
  },
  {
   "cell_type": "code",
   "execution_count": 1,
   "metadata": {},
   "outputs": [],
   "source": [
    "import time\n",
    "from memory_profiler import memory_usage\n",
    "\n",
    "#ruta de nuestro dataset\n",
    "file_path = \"data/farmers-protest-tweets-2021-2-4.json\""
   ]
  },
  {
   "cell_type": "markdown",
   "metadata": {},
   "source": [
    "<h2>Tarea 1 'q1_time'</h2>\n",
    "\n",
    "<span>Esta funcion optimizaa el tiempo de ejecucion para encontrar las 10 fechas con mas tweets y el usuario con mas tweets por cada una de esas 10 fechas</span>\n",
    "\n",
    "<p>En general la funcion implementada q1_time hace los siguentes pasos:</p>\n",
    "<ul>\n",
    "<li>Carga todos los datos para optimizar el tiempo de ejecucion</li>\n",
    "<li>Procesa cada uno de los datos</li>\n",
    "<li>Encuentra las 10 fechas con mas tweets</li>\n",
    "<li>Encuentra al usuario con las tweets por cada una de las 10 fechas</li>\n",
    "</ul>"
   ]
  },
  {
   "cell_type": "code",
   "execution_count": 2,
   "metadata": {},
   "outputs": [
    {
     "name": "stdout",
     "output_type": "stream",
     "text": [
      "Q1_Time - Tiempo de ejecución: 7.368006467819214 segundos\n",
      "Q1_Time - Uso de memoria: 412.8671875 MB\n",
      "[(datetime.date(2021, 2, 12), 'RanbirS00614606'), (datetime.date(2021, 2, 13), 'MaanDee08215437'), (datetime.date(2021, 2, 17), 'RaaJVinderkaur'), (datetime.date(2021, 2, 16), 'jot__b'), (datetime.date(2021, 2, 14), 'rebelpacifist'), (datetime.date(2021, 2, 18), 'neetuanjle_nitu'), (datetime.date(2021, 2, 15), 'jot__b'), (datetime.date(2021, 2, 20), 'MangalJ23056160'), (datetime.date(2021, 2, 23), 'Surrypuria'), (datetime.date(2021, 2, 19), 'Preetm91')] \n",
      "\n"
     ]
    }
   ],
   "source": [
    "#importamos la funcion q1_time\n",
    "from q1_time import q1_time\n",
    "\n",
    "#Medicion del tiempo\n",
    "start_time_q1_time = time.time()\n",
    "result_q1_time = q1_time(file_path)\n",
    "end_time_q1_time = time.time()\n",
    "\n",
    "print(f\"Q1_Time - Tiempo de ejecución: {end_time_q1_time - start_time_q1_time} segundos\")\n",
    "\n",
    "#Medicion del uso de memoria\n",
    "mem_usage = memory_usage((q1_time, (file_path,)))\n",
    "print(f\"Q1_Time - Uso de memoria: {max(mem_usage) - min(mem_usage)} MB\")\n",
    "print(result_q1_time, '\\n')"
   ]
  },
  {
   "cell_type": "code",
   "execution_count": 3,
   "metadata": {},
   "outputs": [
    {
     "name": "stderr",
     "output_type": "stream",
     "text": [
      "\n",
      "Error: Failed to get process executable name. Check that the process is running.\n",
      "Reason: Uno de los dispositivos conectados al sistema no funciona. (os error 31)\n",
      "Reason: Uno de los dispositivos conectados al sistema no funciona. (os error 31)\n"
     ]
    }
   ],
   "source": []
  },
  {
   "cell_type": "markdown",
   "metadata": {},
   "source": [
    "<h2>Tarea 1 'q1_memory'</h2>\n",
    "\n",
    "<span>Esta funcion optimizaa el uso de memoria para encontrar las 10 fechas con mas tweets y el usuario con mas tweets por cada una de esas 10 fechas</span>\n",
    "\n",
    "<p>En general la funcion implementada q1_memory hace los siguentes pasos:</p>\n",
    "<ul>\n",
    "<li>Carga y procesamos los datos linea por linea para optimizar el uso de memoria</li>\n",
    "<li>Encuentra las 10 fechas con mas tweets</li>\n",
    "<li>Encuentra al usuario con las tweets por cada una de las 10 fechas</li>\n",
    "</ul>"
   ]
  },
  {
   "cell_type": "code",
   "execution_count": 3,
   "metadata": {},
   "outputs": [
    {
     "name": "stdout",
     "output_type": "stream",
     "text": [
      "Q1_Memory - Tiempo de ejecución: 6.960214614868164 segundos\n",
      "Q1_Memory - Uso de memoria: 2.32421875 MB\n",
      "[(datetime.date(2021, 2, 12), 'RanbirS00614606'), (datetime.date(2021, 2, 13), 'MaanDee08215437'), (datetime.date(2021, 2, 17), 'RaaJVinderkaur'), (datetime.date(2021, 2, 16), 'jot__b'), (datetime.date(2021, 2, 14), 'rebelpacifist'), (datetime.date(2021, 2, 18), 'neetuanjle_nitu'), (datetime.date(2021, 2, 15), 'jot__b'), (datetime.date(2021, 2, 20), 'MangalJ23056160'), (datetime.date(2021, 2, 23), 'Surrypuria'), (datetime.date(2021, 2, 19), 'Preetm91')] \n",
      "\n"
     ]
    }
   ],
   "source": [
    "#importamos la funcion q1_memory\n",
    "from q1_memory import q1_memory\n",
    "\n",
    "#Medicion del tiempo\n",
    "start_time_q1_memory = time.time()\n",
    "result_q1_memory = q1_memory(file_path)\n",
    "end_time_q1_memory = time.time()\n",
    "\n",
    "print(f\"Q1_Memory - Tiempo de ejecución: {end_time_q1_memory - start_time_q1_memory} segundos\")\n",
    "\n",
    "#Medicion del uso de memoria\n",
    "mem_usage = memory_usage((q1_memory, (file_path,)))\n",
    "print(f\"Q1_Memory - Uso de memoria: {max(mem_usage) - min(mem_usage)} MB\")\n",
    "print(result_q1_memory, '\\n')"
   ]
  },
  {
   "cell_type": "markdown",
   "metadata": {},
   "source": [
    "<h2>Tarea 2 'q2_time'</h2>\n",
    "\n",
    "<span>Esta funcion optimiza el tiempo de ejecucion para encontrar las 10 emojis mas usados</span>\n",
    "En general la funcion implementada q2_time hace los siguentes paso:\n",
    "<ul>\n",
    "<li>Carga todos los datos en memoria para optimizar el tiempo de ejecucion</li>\n",
    "<li>Procesa cada uno de los datos, encontrando los emojis en el cotenido del tweet y actualiza el contador de emojis</li>\n",
    "<li>Filtra los 10 emojis con mayor numero</li>\n",
    "</ul>  "
   ]
  },
  {
   "cell_type": "code",
   "execution_count": 4,
   "metadata": {},
   "outputs": [
    {
     "name": "stdout",
     "output_type": "stream",
     "text": [
      "Q2_Time - Tiempo de ejecución: 5.543258190155029 segundos\n",
      "Q2_Time - Uso de memoria: 409.4140625 MB\n"
     ]
    },
    {
     "data": {
      "text/plain": [
       "[('🙏', 7286),\n",
       " ('😂', 3072),\n",
       " ('🚜', 2972),\n",
       " ('🌾', 2363),\n",
       " ('🇮', 2096),\n",
       " ('🇳', 2094),\n",
       " ('🏻', 2080),\n",
       " ('🏽', 1218),\n",
       " ('👇', 1108),\n",
       " ('💚', 1040)]"
      ]
     },
     "execution_count": 4,
     "metadata": {},
     "output_type": "execute_result"
    }
   ],
   "source": [
    "from q2_time import q2_time\n",
    "\n",
    "# Medición de tiempo para q2_time\n",
    "start_time = time.time()\n",
    "result_q2_time = q2_time(file_path)\n",
    "end_time = time.time()\n",
    "time_execution = end_time - start_time\n",
    "\n",
    "# Medición de memoria para q2_time\n",
    "mem_usage_time = memory_usage((q2_time, (file_path,)))\n",
    "\n",
    "print(f\"Q2_Time - Tiempo de ejecución: {time_execution} segundos\")\n",
    "print(f\"Q2_Time - Uso de memoria: {max(mem_usage_time) - min(mem_usage_time)} MB\")\n",
    "\n",
    "result_q2_time"
   ]
  },
  {
   "cell_type": "markdown",
   "metadata": {},
   "source": [
    "<h2>Tarea 2 'q2_memory'</h2>\n",
    "<span>Esta funcion optimiza el uso de memoria para encontrar las 10 emojis mas usados</span>\n",
    "En general la funcion implementada q2_memory hace los siguentes paso:\n",
    "<ul>\n",
    "<li>Carga y procesa los datos uno por uno con el fin de optimizar el uso de memoria</li>\n",
    "<li>Actualiza el contador de emojis</li>\n",
    "<li>Filtra los 10 emojis con mayor numero</li>\n",
    "</ul>  "
   ]
  },
  {
   "cell_type": "code",
   "execution_count": 5,
   "metadata": {},
   "outputs": [
    {
     "name": "stdout",
     "output_type": "stream",
     "text": [
      "Q2_Memory - Tiempo de ejecución: 5.5967113971710205 segundos\n",
      "Q2_Memory - Uso de memoria: 0.03125 MB\n"
     ]
    },
    {
     "data": {
      "text/plain": [
       "[('🙏', 7286),\n",
       " ('😂', 3072),\n",
       " ('🚜', 2972),\n",
       " ('🌾', 2363),\n",
       " ('🇮', 2096),\n",
       " ('🇳', 2094),\n",
       " ('🏻', 2080),\n",
       " ('🏽', 1218),\n",
       " ('👇', 1108),\n",
       " ('💚', 1040)]"
      ]
     },
     "execution_count": 5,
     "metadata": {},
     "output_type": "execute_result"
    }
   ],
   "source": [
    "from q2_memory import q2_memory\n",
    "\n",
    "# Medición de tiempo para q2_memory\n",
    "start_time = time.time()\n",
    "result_q2_memory = q2_memory(file_path)\n",
    "end_time = time.time()\n",
    "time_execution = end_time - start_time\n",
    "\n",
    "# Medición de memoria para q2_memory\n",
    "mem_usage_time = memory_usage((q2_memory, (file_path,)))\n",
    "\n",
    "print(f\"Q2_Memory - Tiempo de ejecución: {time_execution} segundos\")\n",
    "print(f\"Q2_Memory - Uso de memoria: {max(mem_usage_time) - min(mem_usage_time)} MB\")\n",
    "\n",
    "result_q2_memory"
   ]
  },
  {
   "cell_type": "code",
   "execution_count": null,
   "metadata": {},
   "outputs": [],
   "source": []
  }
 ],
 "metadata": {
  "kernelspec": {
   "display_name": "Python 3",
   "language": "python",
   "name": "python3"
  },
  "language_info": {
   "codemirror_mode": {
    "name": "ipython",
    "version": 3
   },
   "file_extension": ".py",
   "mimetype": "text/x-python",
   "name": "python",
   "nbconvert_exporter": "python",
   "pygments_lexer": "ipython3",
   "version": "3.11.2"
  },
  "orig_nbformat": 4
 },
 "nbformat": 4,
 "nbformat_minor": 2
}
