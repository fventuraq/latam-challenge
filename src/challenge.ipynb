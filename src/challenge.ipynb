{
 "cells": [
  {
   "cell_type": "markdown",
   "metadata": {},
   "source": [
    "En este archivo puedes escribir lo que estimes conveniente. Te recomendamos detallar tu solución y todas las suposiciones que estás considerando. Aquí puedes ejecutar las funciones que definiste en los otros archivos de la carpeta src, medir el tiempo, memoria, etc."
   ]
  },
  {
   "cell_type": "markdown",
   "metadata": {},
   "source": [
    "Tarea 1 'q1_time'\n",
    "\n",
    "Esta funcion optimizaa el tiempo de ejecucion para encontrar las 10 fechas con mas tweets y el usuario con mas tweets por cada una de esas 10 fechas\n",
    "\n",
    "En general la funcion implementada q1_time hace los siguentes paso\n",
    "    ### Carga todos los datos para optimizar el tiempo de ejecucion\n",
    "    ### Procesa cada uno de los datos\n",
    "    ### Encuentra las 10 fechas con mas tweets\n",
    "    ### Encuentra al usuario con las tweets por cada una de las 10 fechas"
   ]
  },
  {
   "cell_type": "code",
   "execution_count": 1,
   "metadata": {},
   "outputs": [],
   "source": [
    "import time\n",
    "from memory_profiler import memory_usage"
   ]
  },
  {
   "cell_type": "code",
   "execution_count": 4,
   "metadata": {},
   "outputs": [
    {
     "name": "stdout",
     "output_type": "stream",
     "text": [
      "Q1_Time (Tiempo) - Tiempo de ejecución: 8.647550582885742 segundos\n",
      "Q1_Time (Memoria) - Uso de memoria: 987.40625 MB\n",
      "[(datetime.date(2021, 2, 12), 'RanbirS00614606'), (datetime.date(2021, 2, 13), 'MaanDee08215437'), (datetime.date(2021, 2, 17), 'RaaJVinderkaur'), (datetime.date(2021, 2, 16), 'jot__b'), (datetime.date(2021, 2, 14), 'rebelpacifist'), (datetime.date(2021, 2, 18), 'neetuanjle_nitu'), (datetime.date(2021, 2, 15), 'jot__b'), (datetime.date(2021, 2, 20), 'MangalJ23056160'), (datetime.date(2021, 2, 23), 'Surrypuria'), (datetime.date(2021, 2, 19), 'Preetm91')] \n",
      "\n"
     ]
    }
   ],
   "source": [
    "#importamos la funcion q1_time\n",
    "from q1_time import q1_time\n",
    "\n",
    "#ruta de nuestro dataset\n",
    "file_path = \"data/farmers-protest-tweets-2021-2-4.json\"\n",
    "\n",
    "#Medicion del tiempo\n",
    "start_time_q1_time = time.time()\n",
    "result_q1_time = q1_time(file_path)\n",
    "end_time_q1_time = time.time()\n",
    "\n",
    "print(f\"Q1_Time - Tiempo de ejecución: {end_time_q1_time - start_time_q1_time} segundos\")\n",
    "\n",
    "#Medicion del uso de memoria\n",
    "mem_usage = memory_usage((q1_time, (file_path,)))\n",
    "print(f\"Q1_Time - Uso de memoria: {max(mem_usage) - min(mem_usage)} MB\")\n",
    "print(result_q1_time, '\\n')\n",
    "\n"
   ]
  },
  {
   "cell_type": "markdown",
   "metadata": {},
   "source": [
    "Tarea 1 'q1_memory'\n",
    "\n",
    "Esta funcion optimizaa el uso de memoria para encontrar las 10 fechas con mas tweets y el usuario con mas tweets por cada una de esas 10 fechas\n",
    "\n",
    "En general la funcion implementada q1_memory hace los siguentes paso\n",
    "    ### Carga y procesamos los datos linea por linea para optimizar el uso de memoria\n",
    "    ### Encuentra las 10 fechas con mas tweets\n",
    "    ### Encuentra al usuario con las tweets por cada una de las 10 fechas"
   ]
  },
  {
   "cell_type": "code",
   "execution_count": null,
   "metadata": {},
   "outputs": [],
   "source": [
    "#importamos la funcion q1_memory\n",
    "from q1_memory import q1_memory\n",
    "from memory_profiler import memory_usage\n",
    "\n",
    "#ruta de nuestro dataset\n",
    "file_path = \"data/farmers-protest-tweets-2021-2-4.json\"\n",
    "\n",
    "#Medicion del tiempo\n",
    "start_time_q1_time = time.time()\n",
    "\n",
    "#Prueba de q1_time\n",
    "result_q1_time = q1_time(file_path)\n",
    "end_time_q1_time = time.time()\n",
    "\n",
    "print(result_q1_time, '\\n')\n",
    "print(f\"Q1 (Tiempo) - Tiempo de ejecución: {end_time_q1_time - start_time_q1_time} segundos\")\n"
   ]
  }
 ],
 "metadata": {
  "kernelspec": {
   "display_name": "Python 3",
   "language": "python",
   "name": "python3"
  },
  "language_info": {
   "codemirror_mode": {
    "name": "ipython",
    "version": 3
   },
   "file_extension": ".py",
   "mimetype": "text/x-python",
   "name": "python",
   "nbconvert_exporter": "python",
   "pygments_lexer": "ipython3",
   "version": "3.11.2"
  },
  "orig_nbformat": 4
 },
 "nbformat": 4,
 "nbformat_minor": 2
}
